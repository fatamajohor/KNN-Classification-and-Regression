{
 "cells": [
  {
   "cell_type": "code",
   "execution_count": 1,
   "id": "1f7d72df",
   "metadata": {},
   "outputs": [],
   "source": [
    "import pandas as pd\n",
    "import matplotlib.pyplot as plt\n",
    "import seaborn as sns"
   ]
  },
  {
   "cell_type": "code",
   "execution_count": 2,
   "id": "3003ca1b",
   "metadata": {},
   "outputs": [],
   "source": [
    "df =pd.read_csv(\"weight-height.csv\")"
   ]
  },
  {
   "cell_type": "code",
   "execution_count": 3,
   "id": "64a3f93e",
   "metadata": {},
   "outputs": [
    {
     "data": {
      "text/html": [
       "<div>\n",
       "<style scoped>\n",
       "    .dataframe tbody tr th:only-of-type {\n",
       "        vertical-align: middle;\n",
       "    }\n",
       "\n",
       "    .dataframe tbody tr th {\n",
       "        vertical-align: top;\n",
       "    }\n",
       "\n",
       "    .dataframe thead th {\n",
       "        text-align: right;\n",
       "    }\n",
       "</style>\n",
       "<table border=\"1\" class=\"dataframe\">\n",
       "  <thead>\n",
       "    <tr style=\"text-align: right;\">\n",
       "      <th></th>\n",
       "      <th>Gender</th>\n",
       "      <th>Height</th>\n",
       "      <th>Weight</th>\n",
       "    </tr>\n",
       "  </thead>\n",
       "  <tbody>\n",
       "    <tr>\n",
       "      <th>0</th>\n",
       "      <td>Male</td>\n",
       "      <td>73.847017</td>\n",
       "      <td>241.893563</td>\n",
       "    </tr>\n",
       "    <tr>\n",
       "      <th>1</th>\n",
       "      <td>Male</td>\n",
       "      <td>68.781904</td>\n",
       "      <td>162.310473</td>\n",
       "    </tr>\n",
       "    <tr>\n",
       "      <th>2</th>\n",
       "      <td>Male</td>\n",
       "      <td>74.110105</td>\n",
       "      <td>212.740856</td>\n",
       "    </tr>\n",
       "    <tr>\n",
       "      <th>3</th>\n",
       "      <td>Male</td>\n",
       "      <td>71.730978</td>\n",
       "      <td>220.042470</td>\n",
       "    </tr>\n",
       "    <tr>\n",
       "      <th>4</th>\n",
       "      <td>Male</td>\n",
       "      <td>69.881796</td>\n",
       "      <td>206.349801</td>\n",
       "    </tr>\n",
       "    <tr>\n",
       "      <th>...</th>\n",
       "      <td>...</td>\n",
       "      <td>...</td>\n",
       "      <td>...</td>\n",
       "    </tr>\n",
       "    <tr>\n",
       "      <th>8550</th>\n",
       "      <td>Female</td>\n",
       "      <td>60.483946</td>\n",
       "      <td>110.565497</td>\n",
       "    </tr>\n",
       "    <tr>\n",
       "      <th>8551</th>\n",
       "      <td>Female</td>\n",
       "      <td>63.423372</td>\n",
       "      <td>129.921671</td>\n",
       "    </tr>\n",
       "    <tr>\n",
       "      <th>8552</th>\n",
       "      <td>Female</td>\n",
       "      <td>65.584057</td>\n",
       "      <td>155.942671</td>\n",
       "    </tr>\n",
       "    <tr>\n",
       "      <th>8553</th>\n",
       "      <td>Female</td>\n",
       "      <td>67.429971</td>\n",
       "      <td>151.678405</td>\n",
       "    </tr>\n",
       "    <tr>\n",
       "      <th>8554</th>\n",
       "      <td>Female</td>\n",
       "      <td>60.921791</td>\n",
       "      <td>131.253738</td>\n",
       "    </tr>\n",
       "  </tbody>\n",
       "</table>\n",
       "<p>8555 rows × 3 columns</p>\n",
       "</div>"
      ],
      "text/plain": [
       "      Gender     Height      Weight\n",
       "0       Male  73.847017  241.893563\n",
       "1       Male  68.781904  162.310473\n",
       "2       Male  74.110105  212.740856\n",
       "3       Male  71.730978  220.042470\n",
       "4       Male  69.881796  206.349801\n",
       "...      ...        ...         ...\n",
       "8550  Female  60.483946  110.565497\n",
       "8551  Female  63.423372  129.921671\n",
       "8552  Female  65.584057  155.942671\n",
       "8553  Female  67.429971  151.678405\n",
       "8554  Female  60.921791  131.253738\n",
       "\n",
       "[8555 rows x 3 columns]"
      ]
     },
     "execution_count": 3,
     "metadata": {},
     "output_type": "execute_result"
    }
   ],
   "source": [
    "df "
   ]
  },
  {
   "cell_type": "markdown",
   "id": "c1994efb",
   "metadata": {},
   "source": [
    "# Encoding"
   ]
  },
  {
   "cell_type": "code",
   "execution_count": 4,
   "id": "1e1e81f8",
   "metadata": {},
   "outputs": [],
   "source": [
    "from sklearn.preprocessing import LabelEncoder"
   ]
  },
  {
   "cell_type": "code",
   "execution_count": 5,
   "id": "2390cf01",
   "metadata": {},
   "outputs": [],
   "source": [
    "le= LabelEncoder()"
   ]
  },
  {
   "cell_type": "code",
   "execution_count": 6,
   "id": "05c072c7",
   "metadata": {},
   "outputs": [
    {
     "name": "stderr",
     "output_type": "stream",
     "text": [
      "C:\\Users\\Binu\\anaconda3\\lib\\site-packages\\sklearn\\utils\\validation.py:63: DataConversionWarning: A column-vector y was passed when a 1d array was expected. Please change the shape of y to (n_samples, ), for example using ravel().\n",
      "  return f(*args, **kwargs)\n"
     ]
    }
   ],
   "source": [
    "df.Gender = le.fit_transform(df[[\"Gender\"]])"
   ]
  },
  {
   "cell_type": "code",
   "execution_count": 7,
   "id": "6fa72b48",
   "metadata": {},
   "outputs": [
    {
     "data": {
      "text/html": [
       "<div>\n",
       "<style scoped>\n",
       "    .dataframe tbody tr th:only-of-type {\n",
       "        vertical-align: middle;\n",
       "    }\n",
       "\n",
       "    .dataframe tbody tr th {\n",
       "        vertical-align: top;\n",
       "    }\n",
       "\n",
       "    .dataframe thead th {\n",
       "        text-align: right;\n",
       "    }\n",
       "</style>\n",
       "<table border=\"1\" class=\"dataframe\">\n",
       "  <thead>\n",
       "    <tr style=\"text-align: right;\">\n",
       "      <th></th>\n",
       "      <th>Gender</th>\n",
       "      <th>Height</th>\n",
       "      <th>Weight</th>\n",
       "    </tr>\n",
       "  </thead>\n",
       "  <tbody>\n",
       "    <tr>\n",
       "      <th>0</th>\n",
       "      <td>1</td>\n",
       "      <td>73.847017</td>\n",
       "      <td>241.893563</td>\n",
       "    </tr>\n",
       "    <tr>\n",
       "      <th>1</th>\n",
       "      <td>1</td>\n",
       "      <td>68.781904</td>\n",
       "      <td>162.310473</td>\n",
       "    </tr>\n",
       "    <tr>\n",
       "      <th>2</th>\n",
       "      <td>1</td>\n",
       "      <td>74.110105</td>\n",
       "      <td>212.740856</td>\n",
       "    </tr>\n",
       "    <tr>\n",
       "      <th>3</th>\n",
       "      <td>1</td>\n",
       "      <td>71.730978</td>\n",
       "      <td>220.042470</td>\n",
       "    </tr>\n",
       "    <tr>\n",
       "      <th>4</th>\n",
       "      <td>1</td>\n",
       "      <td>69.881796</td>\n",
       "      <td>206.349801</td>\n",
       "    </tr>\n",
       "  </tbody>\n",
       "</table>\n",
       "</div>"
      ],
      "text/plain": [
       "   Gender     Height      Weight\n",
       "0       1  73.847017  241.893563\n",
       "1       1  68.781904  162.310473\n",
       "2       1  74.110105  212.740856\n",
       "3       1  71.730978  220.042470\n",
       "4       1  69.881796  206.349801"
      ]
     },
     "execution_count": 7,
     "metadata": {},
     "output_type": "execute_result"
    }
   ],
   "source": [
    "df.head()"
   ]
  },
  {
   "cell_type": "code",
   "execution_count": 8,
   "id": "584e9f80",
   "metadata": {},
   "outputs": [
    {
     "data": {
      "text/plain": [
       "Gender    0\n",
       "Height    0\n",
       "Weight    0\n",
       "dtype: int64"
      ]
     },
     "execution_count": 8,
     "metadata": {},
     "output_type": "execute_result"
    }
   ],
   "source": [
    "df.isnull().sum()"
   ]
  },
  {
   "cell_type": "code",
   "execution_count": 9,
   "id": "2bd35b2b",
   "metadata": {},
   "outputs": [],
   "source": [
    "x = df.drop([\"Weight\"], axis=1)"
   ]
  },
  {
   "cell_type": "code",
   "execution_count": 10,
   "id": "0c200540",
   "metadata": {},
   "outputs": [
    {
     "data": {
      "text/html": [
       "<div>\n",
       "<style scoped>\n",
       "    .dataframe tbody tr th:only-of-type {\n",
       "        vertical-align: middle;\n",
       "    }\n",
       "\n",
       "    .dataframe tbody tr th {\n",
       "        vertical-align: top;\n",
       "    }\n",
       "\n",
       "    .dataframe thead th {\n",
       "        text-align: right;\n",
       "    }\n",
       "</style>\n",
       "<table border=\"1\" class=\"dataframe\">\n",
       "  <thead>\n",
       "    <tr style=\"text-align: right;\">\n",
       "      <th></th>\n",
       "      <th>Gender</th>\n",
       "      <th>Height</th>\n",
       "    </tr>\n",
       "  </thead>\n",
       "  <tbody>\n",
       "    <tr>\n",
       "      <th>0</th>\n",
       "      <td>1</td>\n",
       "      <td>73.847017</td>\n",
       "    </tr>\n",
       "    <tr>\n",
       "      <th>1</th>\n",
       "      <td>1</td>\n",
       "      <td>68.781904</td>\n",
       "    </tr>\n",
       "    <tr>\n",
       "      <th>2</th>\n",
       "      <td>1</td>\n",
       "      <td>74.110105</td>\n",
       "    </tr>\n",
       "    <tr>\n",
       "      <th>3</th>\n",
       "      <td>1</td>\n",
       "      <td>71.730978</td>\n",
       "    </tr>\n",
       "    <tr>\n",
       "      <th>4</th>\n",
       "      <td>1</td>\n",
       "      <td>69.881796</td>\n",
       "    </tr>\n",
       "    <tr>\n",
       "      <th>...</th>\n",
       "      <td>...</td>\n",
       "      <td>...</td>\n",
       "    </tr>\n",
       "    <tr>\n",
       "      <th>8550</th>\n",
       "      <td>0</td>\n",
       "      <td>60.483946</td>\n",
       "    </tr>\n",
       "    <tr>\n",
       "      <th>8551</th>\n",
       "      <td>0</td>\n",
       "      <td>63.423372</td>\n",
       "    </tr>\n",
       "    <tr>\n",
       "      <th>8552</th>\n",
       "      <td>0</td>\n",
       "      <td>65.584057</td>\n",
       "    </tr>\n",
       "    <tr>\n",
       "      <th>8553</th>\n",
       "      <td>0</td>\n",
       "      <td>67.429971</td>\n",
       "    </tr>\n",
       "    <tr>\n",
       "      <th>8554</th>\n",
       "      <td>0</td>\n",
       "      <td>60.921791</td>\n",
       "    </tr>\n",
       "  </tbody>\n",
       "</table>\n",
       "<p>8555 rows × 2 columns</p>\n",
       "</div>"
      ],
      "text/plain": [
       "      Gender     Height\n",
       "0          1  73.847017\n",
       "1          1  68.781904\n",
       "2          1  74.110105\n",
       "3          1  71.730978\n",
       "4          1  69.881796\n",
       "...      ...        ...\n",
       "8550       0  60.483946\n",
       "8551       0  63.423372\n",
       "8552       0  65.584057\n",
       "8553       0  67.429971\n",
       "8554       0  60.921791\n",
       "\n",
       "[8555 rows x 2 columns]"
      ]
     },
     "execution_count": 10,
     "metadata": {},
     "output_type": "execute_result"
    }
   ],
   "source": [
    " x"
   ]
  },
  {
   "cell_type": "code",
   "execution_count": 11,
   "id": "233a9a5a",
   "metadata": {},
   "outputs": [],
   "source": [
    "y =df[\"Weight\"]"
   ]
  },
  {
   "cell_type": "code",
   "execution_count": 12,
   "id": "138a4db4",
   "metadata": {},
   "outputs": [
    {
     "data": {
      "text/plain": [
       "0       241.893563\n",
       "1       162.310473\n",
       "2       212.740856\n",
       "3       220.042470\n",
       "4       206.349801\n",
       "           ...    \n",
       "8550    110.565497\n",
       "8551    129.921671\n",
       "8552    155.942671\n",
       "8553    151.678405\n",
       "8554    131.253738\n",
       "Name: Weight, Length: 8555, dtype: float64"
      ]
     },
     "execution_count": 12,
     "metadata": {},
     "output_type": "execute_result"
    }
   ],
   "source": [
    "y"
   ]
  },
  {
   "cell_type": "markdown",
   "id": "6485bfdc",
   "metadata": {},
   "source": [
    "# train test split"
   ]
  },
  {
   "cell_type": "code",
   "execution_count": 13,
   "id": "c582f339",
   "metadata": {},
   "outputs": [],
   "source": [
    "from sklearn.model_selection import train_test_split"
   ]
  },
  {
   "cell_type": "code",
   "execution_count": 14,
   "id": "a53abf22",
   "metadata": {},
   "outputs": [],
   "source": [
    "xtrain,xtest,ytrain,ytest =train_test_split(x,y,test_size=0.3, random_state=1)\n",
    " "
   ]
  },
  {
   "cell_type": "code",
   "execution_count": 15,
   "id": "17030025",
   "metadata": {},
   "outputs": [
    {
     "data": {
      "text/plain": [
       "(5988, 2)"
      ]
     },
     "execution_count": 15,
     "metadata": {},
     "output_type": "execute_result"
    }
   ],
   "source": [
    "xtrain.shape"
   ]
  },
  {
   "cell_type": "code",
   "execution_count": 16,
   "id": "dacc6ff0",
   "metadata": {},
   "outputs": [
    {
     "data": {
      "text/plain": [
       "(5988,)"
      ]
     },
     "execution_count": 16,
     "metadata": {},
     "output_type": "execute_result"
    }
   ],
   "source": [
    "ytrain.shape"
   ]
  },
  {
   "cell_type": "code",
   "execution_count": 17,
   "id": "01121814",
   "metadata": {},
   "outputs": [
    {
     "data": {
      "text/plain": [
       "(2567, 2)"
      ]
     },
     "execution_count": 17,
     "metadata": {},
     "output_type": "execute_result"
    }
   ],
   "source": [
    "xtest.shape"
   ]
  },
  {
   "cell_type": "code",
   "execution_count": 18,
   "id": "10f272e7",
   "metadata": {},
   "outputs": [
    {
     "data": {
      "text/plain": [
       "(2567,)"
      ]
     },
     "execution_count": 18,
     "metadata": {},
     "output_type": "execute_result"
    }
   ],
   "source": [
    "ytest.shape"
   ]
  },
  {
   "cell_type": "markdown",
   "id": "d053a6c3",
   "metadata": {},
   "source": [
    "# Linear Regression"
   ]
  },
  {
   "cell_type": "code",
   "execution_count": 19,
   "id": "ad0986b3",
   "metadata": {},
   "outputs": [],
   "source": [
    "from sklearn.linear_model import LinearRegression"
   ]
  },
  {
   "cell_type": "code",
   "execution_count": 20,
   "id": "df1e9e71",
   "metadata": {},
   "outputs": [],
   "source": [
    "Lin= LinearRegression()"
   ]
  },
  {
   "cell_type": "code",
   "execution_count": 21,
   "id": "cbe63fd0",
   "metadata": {},
   "outputs": [
    {
     "data": {
      "text/plain": [
       "LinearRegression()"
      ]
     },
     "execution_count": 21,
     "metadata": {},
     "output_type": "execute_result"
    }
   ],
   "source": [
    "Lin"
   ]
  },
  {
   "cell_type": "code",
   "execution_count": 22,
   "id": "1039339d",
   "metadata": {},
   "outputs": [
    {
     "data": {
      "text/plain": [
       "LinearRegression()"
      ]
     },
     "execution_count": 22,
     "metadata": {},
     "output_type": "execute_result"
    }
   ],
   "source": [
    "Lin.fit(xtrain,ytrain)"
   ]
  },
  {
   "cell_type": "code",
   "execution_count": 23,
   "id": "771a0d46",
   "metadata": {},
   "outputs": [
    {
     "data": {
      "text/plain": [
       "2"
      ]
     },
     "execution_count": 23,
     "metadata": {},
     "output_type": "execute_result"
    }
   ],
   "source": [
    "xtest.ndim"
   ]
  },
  {
   "cell_type": "code",
   "execution_count": 24,
   "id": "9415c89e",
   "metadata": {},
   "outputs": [],
   "source": [
    "df[\"New Y\"] = Lin.predict(x)"
   ]
  },
  {
   "cell_type": "code",
   "execution_count": 25,
   "id": "16fdbbe6",
   "metadata": {},
   "outputs": [
    {
     "data": {
      "text/html": [
       "<div>\n",
       "<style scoped>\n",
       "    .dataframe tbody tr th:only-of-type {\n",
       "        vertical-align: middle;\n",
       "    }\n",
       "\n",
       "    .dataframe tbody tr th {\n",
       "        vertical-align: top;\n",
       "    }\n",
       "\n",
       "    .dataframe thead th {\n",
       "        text-align: right;\n",
       "    }\n",
       "</style>\n",
       "<table border=\"1\" class=\"dataframe\">\n",
       "  <thead>\n",
       "    <tr style=\"text-align: right;\">\n",
       "      <th></th>\n",
       "      <th>Gender</th>\n",
       "      <th>Height</th>\n",
       "      <th>Weight</th>\n",
       "      <th>New Y</th>\n",
       "    </tr>\n",
       "  </thead>\n",
       "  <tbody>\n",
       "    <tr>\n",
       "      <th>0</th>\n",
       "      <td>1</td>\n",
       "      <td>73.847017</td>\n",
       "      <td>241.893563</td>\n",
       "      <td>215.574352</td>\n",
       "    </tr>\n",
       "    <tr>\n",
       "      <th>1</th>\n",
       "      <td>1</td>\n",
       "      <td>68.781904</td>\n",
       "      <td>162.310473</td>\n",
       "      <td>185.341329</td>\n",
       "    </tr>\n",
       "    <tr>\n",
       "      <th>2</th>\n",
       "      <td>1</td>\n",
       "      <td>74.110105</td>\n",
       "      <td>212.740856</td>\n",
       "      <td>217.144694</td>\n",
       "    </tr>\n",
       "    <tr>\n",
       "      <th>3</th>\n",
       "      <td>1</td>\n",
       "      <td>71.730978</td>\n",
       "      <td>220.042470</td>\n",
       "      <td>202.943984</td>\n",
       "    </tr>\n",
       "    <tr>\n",
       "      <th>4</th>\n",
       "      <td>1</td>\n",
       "      <td>69.881796</td>\n",
       "      <td>206.349801</td>\n",
       "      <td>191.906445</td>\n",
       "    </tr>\n",
       "    <tr>\n",
       "      <th>...</th>\n",
       "      <td>...</td>\n",
       "      <td>...</td>\n",
       "      <td>...</td>\n",
       "      <td>...</td>\n",
       "    </tr>\n",
       "    <tr>\n",
       "      <th>8550</th>\n",
       "      <td>0</td>\n",
       "      <td>60.483946</td>\n",
       "      <td>110.565497</td>\n",
       "      <td>116.468265</td>\n",
       "    </tr>\n",
       "    <tr>\n",
       "      <th>8551</th>\n",
       "      <td>0</td>\n",
       "      <td>63.423372</td>\n",
       "      <td>129.921671</td>\n",
       "      <td>134.013329</td>\n",
       "    </tr>\n",
       "    <tr>\n",
       "      <th>8552</th>\n",
       "      <td>0</td>\n",
       "      <td>65.584057</td>\n",
       "      <td>155.942671</td>\n",
       "      <td>146.910187</td>\n",
       "    </tr>\n",
       "    <tr>\n",
       "      <th>8553</th>\n",
       "      <td>0</td>\n",
       "      <td>67.429971</td>\n",
       "      <td>151.678405</td>\n",
       "      <td>157.928220</td>\n",
       "    </tr>\n",
       "    <tr>\n",
       "      <th>8554</th>\n",
       "      <td>0</td>\n",
       "      <td>60.921791</td>\n",
       "      <td>131.253738</td>\n",
       "      <td>119.081708</td>\n",
       "    </tr>\n",
       "  </tbody>\n",
       "</table>\n",
       "<p>8555 rows × 4 columns</p>\n",
       "</div>"
      ],
      "text/plain": [
       "      Gender     Height      Weight       New Y\n",
       "0          1  73.847017  241.893563  215.574352\n",
       "1          1  68.781904  162.310473  185.341329\n",
       "2          1  74.110105  212.740856  217.144694\n",
       "3          1  71.730978  220.042470  202.943984\n",
       "4          1  69.881796  206.349801  191.906445\n",
       "...      ...        ...         ...         ...\n",
       "8550       0  60.483946  110.565497  116.468265\n",
       "8551       0  63.423372  129.921671  134.013329\n",
       "8552       0  65.584057  155.942671  146.910187\n",
       "8553       0  67.429971  151.678405  157.928220\n",
       "8554       0  60.921791  131.253738  119.081708\n",
       "\n",
       "[8555 rows x 4 columns]"
      ]
     },
     "execution_count": 25,
     "metadata": {},
     "output_type": "execute_result"
    }
   ],
   "source": [
    "df"
   ]
  },
  {
   "cell_type": "code",
   "execution_count": 26,
   "id": "21b601da",
   "metadata": {},
   "outputs": [],
   "source": [
    "pred =Lin.predict(xtest)"
   ]
  },
  {
   "cell_type": "markdown",
   "id": "89fc2b45",
   "metadata": {},
   "source": [
    "# Model Evaluation"
   ]
  },
  {
   "cell_type": "code",
   "execution_count": 27,
   "id": "6edf25ac",
   "metadata": {},
   "outputs": [
    {
     "data": {
      "text/plain": [
       "0.9059959607091161"
      ]
     },
     "execution_count": 27,
     "metadata": {},
     "output_type": "execute_result"
    }
   ],
   "source": [
    "Lin.score(xtest,ytest)"
   ]
  },
  {
   "cell_type": "code",
   "execution_count": 28,
   "id": "d64bae08",
   "metadata": {},
   "outputs": [],
   "source": [
    "from sklearn.metrics import mean_squared_error\n",
    " "
   ]
  },
  {
   "cell_type": "code",
   "execution_count": 29,
   "id": "fbc82347",
   "metadata": {},
   "outputs": [],
   "source": [
    "mse = mean_squared_error(ytest,pred)"
   ]
  },
  {
   "cell_type": "code",
   "execution_count": 30,
   "id": "2ef621f3",
   "metadata": {},
   "outputs": [
    {
     "data": {
      "text/plain": [
       "99.67250998070031"
      ]
     },
     "execution_count": 30,
     "metadata": {},
     "output_type": "execute_result"
    }
   ],
   "source": [
    "mse"
   ]
  },
  {
   "cell_type": "code",
   "execution_count": 31,
   "id": "7663f5c6",
   "metadata": {},
   "outputs": [
    {
     "data": {
      "text/plain": [
       "array([118.35475352])"
      ]
     },
     "execution_count": 31,
     "metadata": {},
     "output_type": "execute_result"
    }
   ],
   "source": [
    "Lin.predict([[0,60.80]])"
   ]
  },
  {
   "cell_type": "markdown",
   "id": "37a12bc3",
   "metadata": {},
   "source": [
    "# KNN Regression"
   ]
  },
  {
   "cell_type": "code",
   "execution_count": 32,
   "id": "0ce3e390",
   "metadata": {},
   "outputs": [],
   "source": [
    "from sklearn.neighbors import KNeighborsRegressor"
   ]
  },
  {
   "cell_type": "code",
   "execution_count": 33,
   "id": "2f3884f2",
   "metadata": {},
   "outputs": [],
   "source": [
    "neigh =KNeighborsRegressor(n_neighbors=5) #n_neighbors=5,"
   ]
  },
  {
   "cell_type": "code",
   "execution_count": 34,
   "id": "28136654",
   "metadata": {},
   "outputs": [
    {
     "data": {
      "text/plain": [
       "KNeighborsRegressor()"
      ]
     },
     "execution_count": 34,
     "metadata": {},
     "output_type": "execute_result"
    }
   ],
   "source": [
    "neigh.fit(xtrain,ytrain)"
   ]
  },
  {
   "cell_type": "code",
   "execution_count": 35,
   "id": "e9cb1927",
   "metadata": {},
   "outputs": [
    {
     "data": {
      "text/plain": [
       "0.8838502073708883"
      ]
     },
     "execution_count": 35,
     "metadata": {},
     "output_type": "execute_result"
    }
   ],
   "source": [
    "neigh.score(xtest,ytest)"
   ]
  },
  {
   "cell_type": "markdown",
   "id": "730c6dc7",
   "metadata": {},
   "source": [
    "# Tuning"
   ]
  },
  {
   "cell_type": "code",
   "execution_count": 36,
   "id": "bf2909ab",
   "metadata": {},
   "outputs": [],
   "source": [
    " import numpy as np"
   ]
  },
  {
   "cell_type": "code",
   "execution_count": 37,
   "id": "04b401b4",
   "metadata": {},
   "outputs": [
    {
     "name": "stdout",
     "output_type": "stream",
     "text": [
      "{'n_neighbors': [50, 60, 71, 82, 92, 103, 114, 125, 135, 146, 157, 167, 178, 189, 200], 'weights': ['uniform', 'distance']}\n"
     ]
    }
   ],
   "source": [
    "n_neighbors = [int(x) for x in np.linspace(50,200,15)]\n",
    "\n",
    "weights = ['uniform', 'distance']\n",
    "\n",
    " \n",
    "\n",
    " \n",
    "# Create ids\n",
    "grids = {'n_neighbors': n_neighbors,\n",
    "         \n",
    " \n",
    "               'weights': weights,\n",
    "               \n",
    "               }\n",
    "print(grids) "
   ]
  },
  {
   "cell_type": "code",
   "execution_count": 38,
   "id": "1066882e",
   "metadata": {},
   "outputs": [],
   "source": [
    " from sklearn.model_selection import RandomizedSearchCV "
   ]
  },
  {
   "cell_type": "code",
   "execution_count": 39,
   "id": "1bf4ddb2",
   "metadata": {},
   "outputs": [],
   "source": [
    " rnf=KNeighborsRegressor() "
   ]
  },
  {
   "cell_type": "code",
   "execution_count": 40,
   "id": "93c06edb",
   "metadata": {},
   "outputs": [],
   "source": [
    "rmcv = RandomizedSearchCV(estimator=rnf, param_distributions=grids, n_iter=100, cv=5, random_state=0, n_jobs =1) "
   ]
  },
  {
   "cell_type": "code",
   "execution_count": 41,
   "id": "cc06c897",
   "metadata": {},
   "outputs": [
    {
     "data": {
      "text/plain": [
       "RandomizedSearchCV(cv=5, estimator=KNeighborsRegressor(), n_iter=100, n_jobs=1,\n",
       "                   param_distributions={'n_neighbors': [50, 60, 71, 82, 92, 103,\n",
       "                                                        114, 125, 135, 146, 157,\n",
       "                                                        167, 178, 189, 200],\n",
       "                                        'weights': ['uniform', 'distance']},\n",
       "                   random_state=0)"
      ]
     },
     "execution_count": 41,
     "metadata": {},
     "output_type": "execute_result"
    }
   ],
   "source": [
    "rmcv"
   ]
  },
  {
   "cell_type": "code",
   "execution_count": 42,
   "id": "a340bf52",
   "metadata": {},
   "outputs": [
    {
     "name": "stderr",
     "output_type": "stream",
     "text": [
      "C:\\Users\\Binu\\anaconda3\\lib\\site-packages\\sklearn\\model_selection\\_search.py:285: UserWarning: The total space of parameters 30 is smaller than n_iter=100. Running 30 iterations. For exhaustive searches, use GridSearchCV.\n",
      "  warnings.warn(\n"
     ]
    },
    {
     "data": {
      "text/plain": [
       "RandomizedSearchCV(cv=5, estimator=KNeighborsRegressor(), n_iter=100, n_jobs=1,\n",
       "                   param_distributions={'n_neighbors': [50, 60, 71, 82, 92, 103,\n",
       "                                                        114, 125, 135, 146, 157,\n",
       "                                                        167, 178, 189, 200],\n",
       "                                        'weights': ['uniform', 'distance']},\n",
       "                   random_state=0)"
      ]
     },
     "execution_count": 42,
     "metadata": {},
     "output_type": "execute_result"
    }
   ],
   "source": [
    "rmcv.fit(xtrain,ytrain) "
   ]
  },
  {
   "cell_type": "code",
   "execution_count": 43,
   "id": "44e51e84",
   "metadata": {},
   "outputs": [
    {
     "data": {
      "text/plain": [
       "{'weights': 'uniform', 'n_neighbors': 50}"
      ]
     },
     "execution_count": 43,
     "metadata": {},
     "output_type": "execute_result"
    }
   ],
   "source": [
    "rmcv.best_params_"
   ]
  },
  {
   "cell_type": "code",
   "execution_count": 44,
   "id": "bccda930",
   "metadata": {},
   "outputs": [
    {
     "data": {
      "text/plain": [
       "{'mean_fit_time': array([0.01588063, 0.00999422, 0.0121727 , 0.0095624 , 0.00977993,\n",
       "        0.010324  , 0.01197429, 0.01562681, 0.01093593, 0.01955419,\n",
       "        0.01260681, 0.0147469 , 0.00941582, 0.00956392, 0.00920744,\n",
       "        0.00944114, 0.00959091, 0.00939112, 0.00964179, 0.00942264,\n",
       "        0.01014571, 0.00997076, 0.0115798 , 0.00940633, 0.00919676,\n",
       "        0.01217356, 0.01021876, 0.0099606 , 0.01000991, 0.01117797]),\n",
       " 'std_fit_time': array([6.78933838e-03, 2.70788933e-05, 3.92013981e-03, 5.03057317e-04,\n",
       "        4.02701218e-04, 7.46621627e-04, 2.60712799e-03, 1.02085708e-02,\n",
       "        5.64382990e-04, 1.43339166e-02, 2.56996333e-03, 9.60182929e-03,\n",
       "        4.83508608e-04, 5.31742429e-04, 3.81504933e-04, 5.21263935e-04,\n",
       "        4.71670108e-04, 4.82000751e-04, 4.89346629e-04, 4.98356327e-04,\n",
       "        1.11960555e-03, 8.89306063e-04, 3.70742312e-03, 5.00937077e-04,\n",
       "        3.95104921e-04, 5.45348021e-03, 1.05980118e-03, 6.24017705e-04,\n",
       "        6.52607488e-04, 2.92981010e-03]),\n",
       " 'mean_score_time': array([0.025388  , 0.02338943, 0.0250814 , 0.03063688, 0.03030229,\n",
       "        0.03790827, 0.03624668, 0.03571544, 0.04244208, 0.04333019,\n",
       "        0.04368339, 0.0450408 , 0.0420114 , 0.04594431, 0.0459691 ,\n",
       "        0.05029192, 0.0482295 , 0.05580735, 0.05209708, 0.05307932,\n",
       "        0.06572199, 0.07658887, 0.06822023, 0.06039367, 0.06460147,\n",
       "        0.06284723, 0.07207208, 0.0707459 , 0.06723776, 0.07197328]),\n",
       " 'std_score_time': array([0.00641416, 0.00277426, 0.00134276, 0.00963985, 0.00670062,\n",
       "        0.01204895, 0.01061175, 0.00232418, 0.01385709, 0.00869154,\n",
       "        0.00505424, 0.00694959, 0.00648673, 0.00945429, 0.00654797,\n",
       "        0.00980145, 0.00633154, 0.01166564, 0.00936724, 0.00590021,\n",
       "        0.01266345, 0.0212264 , 0.01407422, 0.00556219, 0.01010883,\n",
       "        0.00254256, 0.01130793, 0.00940872, 0.0085769 , 0.00783052]),\n",
       " 'param_weights': masked_array(data=['uniform', 'distance', 'uniform', 'distance',\n",
       "                    'uniform', 'distance', 'uniform', 'distance',\n",
       "                    'uniform', 'distance', 'uniform', 'distance',\n",
       "                    'uniform', 'distance', 'uniform', 'distance',\n",
       "                    'uniform', 'distance', 'uniform', 'distance',\n",
       "                    'uniform', 'distance', 'uniform', 'distance',\n",
       "                    'uniform', 'distance', 'uniform', 'distance',\n",
       "                    'uniform', 'distance'],\n",
       "              mask=[False, False, False, False, False, False, False, False,\n",
       "                    False, False, False, False, False, False, False, False,\n",
       "                    False, False, False, False, False, False, False, False,\n",
       "                    False, False, False, False, False, False],\n",
       "        fill_value='?',\n",
       "             dtype=object),\n",
       " 'param_n_neighbors': masked_array(data=[50, 50, 60, 60, 71, 71, 82, 82, 92, 92, 103, 103, 114,\n",
       "                    114, 125, 125, 135, 135, 146, 146, 157, 157, 167, 167,\n",
       "                    178, 178, 189, 189, 200, 200],\n",
       "              mask=[False, False, False, False, False, False, False, False,\n",
       "                    False, False, False, False, False, False, False, False,\n",
       "                    False, False, False, False, False, False, False, False,\n",
       "                    False, False, False, False, False, False],\n",
       "        fill_value='?',\n",
       "             dtype=object),\n",
       " 'params': [{'weights': 'uniform', 'n_neighbors': 50},\n",
       "  {'weights': 'distance', 'n_neighbors': 50},\n",
       "  {'weights': 'uniform', 'n_neighbors': 60},\n",
       "  {'weights': 'distance', 'n_neighbors': 60},\n",
       "  {'weights': 'uniform', 'n_neighbors': 71},\n",
       "  {'weights': 'distance', 'n_neighbors': 71},\n",
       "  {'weights': 'uniform', 'n_neighbors': 82},\n",
       "  {'weights': 'distance', 'n_neighbors': 82},\n",
       "  {'weights': 'uniform', 'n_neighbors': 92},\n",
       "  {'weights': 'distance', 'n_neighbors': 92},\n",
       "  {'weights': 'uniform', 'n_neighbors': 103},\n",
       "  {'weights': 'distance', 'n_neighbors': 103},\n",
       "  {'weights': 'uniform', 'n_neighbors': 114},\n",
       "  {'weights': 'distance', 'n_neighbors': 114},\n",
       "  {'weights': 'uniform', 'n_neighbors': 125},\n",
       "  {'weights': 'distance', 'n_neighbors': 125},\n",
       "  {'weights': 'uniform', 'n_neighbors': 135},\n",
       "  {'weights': 'distance', 'n_neighbors': 135},\n",
       "  {'weights': 'uniform', 'n_neighbors': 146},\n",
       "  {'weights': 'distance', 'n_neighbors': 146},\n",
       "  {'weights': 'uniform', 'n_neighbors': 157},\n",
       "  {'weights': 'distance', 'n_neighbors': 157},\n",
       "  {'weights': 'uniform', 'n_neighbors': 167},\n",
       "  {'weights': 'distance', 'n_neighbors': 167},\n",
       "  {'weights': 'uniform', 'n_neighbors': 178},\n",
       "  {'weights': 'distance', 'n_neighbors': 178},\n",
       "  {'weights': 'uniform', 'n_neighbors': 189},\n",
       "  {'weights': 'distance', 'n_neighbors': 189},\n",
       "  {'weights': 'uniform', 'n_neighbors': 200},\n",
       "  {'weights': 'distance', 'n_neighbors': 200}],\n",
       " 'split0_test_score': array([0.89209189, 0.8734337 , 0.89182117, 0.87419831, 0.89176106,\n",
       "        0.87488253, 0.89137175, 0.87538028, 0.89091823, 0.87568013,\n",
       "        0.89024842, 0.8759357 , 0.88945215, 0.87610951, 0.88899153,\n",
       "        0.87629079, 0.88877441, 0.87641836, 0.88846793, 0.87657658,\n",
       "        0.88767116, 0.87663498, 0.88702774, 0.87666972, 0.88649341,\n",
       "        0.87670255, 0.88579685, 0.87671868, 0.88530686, 0.87675341]),\n",
       " 'split1_test_score': array([0.89499469, 0.8767249 , 0.89391056, 0.87713662, 0.89354813,\n",
       "        0.87758579, 0.89345953, 0.87797962, 0.89293177, 0.87820075,\n",
       "        0.8921925 , 0.87832559, 0.8917117 , 0.87847751, 0.89144471,\n",
       "        0.87862608, 0.89093964, 0.87870163, 0.89062254, 0.87881024,\n",
       "        0.88997825, 0.87882502, 0.88919653, 0.87878155, 0.88846813,\n",
       "        0.87877218, 0.88791186, 0.87877668, 0.8873393 , 0.87879157]),\n",
       " 'split2_test_score': array([0.88902236, 0.87644506, 0.88891572, 0.87690269, 0.88876375,\n",
       "        0.87724474, 0.88811414, 0.8775047 , 0.88757324, 0.87766495,\n",
       "        0.8870928 , 0.87780455, 0.88693702, 0.87797998, 0.88651494,\n",
       "        0.87812443, 0.88635249, 0.87823627, 0.8858983 , 0.87832542,\n",
       "        0.88542227, 0.87840552, 0.88506169, 0.8784553 , 0.88455801,\n",
       "        0.87852389, 0.88412943, 0.87857861, 0.88366664, 0.87860832]),\n",
       " 'split3_test_score': array([0.89112848, 0.87658682, 0.89098297, 0.87712788, 0.89087295,\n",
       "        0.87765731, 0.89094662, 0.87818059, 0.89072725, 0.87849078,\n",
       "        0.88994642, 0.8787225 , 0.8893868 , 0.87887775, 0.88880043,\n",
       "        0.87902791, 0.88850336, 0.87915635, 0.88797443, 0.87921449,\n",
       "        0.88755275, 0.8792624 , 0.88713827, 0.87933069, 0.88649234,\n",
       "        0.87930387, 0.88623653, 0.87933521, 0.88602764, 0.87935606]),\n",
       " 'split4_test_score': array([0.89985876, 0.88678866, 0.90051604, 0.88754783, 0.90046382,\n",
       "        0.88810416, 0.8999606 , 0.88850302, 0.89985035, 0.88887833,\n",
       "        0.89986704, 0.88927047, 0.89949726, 0.88955402, 0.8992302 ,\n",
       "        0.88978397, 0.89900614, 0.88996791, 0.898602  , 0.89009652,\n",
       "        0.89843244, 0.89026111, 0.8979259 , 0.8903624 , 0.89729577,\n",
       "        0.89044747, 0.89682556, 0.8905179 , 0.89612209, 0.89053881]),\n",
       " 'mean_test_score': array([0.89341924, 0.87799583, 0.89322929, 0.87858267, 0.89308194,\n",
       "        0.8790949 , 0.89277053, 0.87950964, 0.89240017, 0.87978299,\n",
       "        0.89186944, 0.88001176, 0.89139699, 0.88019976, 0.89099636,\n",
       "        0.88037064, 0.89071521, 0.8804961 , 0.89031304, 0.88060465,\n",
       "        0.88981138, 0.8806778 , 0.88927003, 0.88071993, 0.88866153,\n",
       "        0.88074999, 0.88818005, 0.88078542, 0.88769251, 0.88080963]),\n",
       " 'std_test_score': array([0.00374944, 0.0045636 , 0.00397986, 0.00461793, 0.00399952,\n",
       "        0.00461905, 0.00397837, 0.00460564, 0.00410078, 0.00465227,\n",
       "        0.00431759, 0.00472684, 0.00432269, 0.00477228, 0.00440277,\n",
       "        0.00479891, 0.00439277, 0.00482628, 0.00440831, 0.00483049,\n",
       "        0.00454526, 0.00487409, 0.00452132, 0.00490301, 0.00449071,\n",
       "        0.0049271 , 0.00448734, 0.00494505, 0.00437843, 0.00494249]),\n",
       " 'rank_test_score': array([ 1, 30,  2, 29,  3, 28,  4, 27,  5, 26,  6, 25,  7, 24,  8, 23,  9,\n",
       "        22, 10, 21, 11, 20, 12, 19, 13, 18, 14, 17, 15, 16])}"
      ]
     },
     "execution_count": 44,
     "metadata": {},
     "output_type": "execute_result"
    }
   ],
   "source": [
    "rmcv.cv_results_"
   ]
  },
  {
   "cell_type": "code",
   "execution_count": 45,
   "id": "f35ff640",
   "metadata": {},
   "outputs": [
    {
     "data": {
      "text/html": [
       "<div>\n",
       "<style scoped>\n",
       "    .dataframe tbody tr th:only-of-type {\n",
       "        vertical-align: middle;\n",
       "    }\n",
       "\n",
       "    .dataframe tbody tr th {\n",
       "        vertical-align: top;\n",
       "    }\n",
       "\n",
       "    .dataframe thead th {\n",
       "        text-align: right;\n",
       "    }\n",
       "</style>\n",
       "<table border=\"1\" class=\"dataframe\">\n",
       "  <thead>\n",
       "    <tr style=\"text-align: right;\">\n",
       "      <th></th>\n",
       "      <th>mean_fit_time</th>\n",
       "      <th>std_fit_time</th>\n",
       "      <th>mean_score_time</th>\n",
       "      <th>std_score_time</th>\n",
       "      <th>param_weights</th>\n",
       "      <th>param_n_neighbors</th>\n",
       "      <th>params</th>\n",
       "      <th>split0_test_score</th>\n",
       "      <th>split1_test_score</th>\n",
       "      <th>split2_test_score</th>\n",
       "      <th>split3_test_score</th>\n",
       "      <th>split4_test_score</th>\n",
       "      <th>mean_test_score</th>\n",
       "      <th>std_test_score</th>\n",
       "      <th>rank_test_score</th>\n",
       "    </tr>\n",
       "  </thead>\n",
       "  <tbody>\n",
       "    <tr>\n",
       "      <th>0</th>\n",
       "      <td>0.015881</td>\n",
       "      <td>0.006789</td>\n",
       "      <td>0.025388</td>\n",
       "      <td>0.006414</td>\n",
       "      <td>uniform</td>\n",
       "      <td>50</td>\n",
       "      <td>{'weights': 'uniform', 'n_neighbors': 50}</td>\n",
       "      <td>0.892092</td>\n",
       "      <td>0.894995</td>\n",
       "      <td>0.889022</td>\n",
       "      <td>0.891128</td>\n",
       "      <td>0.899859</td>\n",
       "      <td>0.893419</td>\n",
       "      <td>0.003749</td>\n",
       "      <td>1</td>\n",
       "    </tr>\n",
       "    <tr>\n",
       "      <th>1</th>\n",
       "      <td>0.009994</td>\n",
       "      <td>0.000027</td>\n",
       "      <td>0.023389</td>\n",
       "      <td>0.002774</td>\n",
       "      <td>distance</td>\n",
       "      <td>50</td>\n",
       "      <td>{'weights': 'distance', 'n_neighbors': 50}</td>\n",
       "      <td>0.873434</td>\n",
       "      <td>0.876725</td>\n",
       "      <td>0.876445</td>\n",
       "      <td>0.876587</td>\n",
       "      <td>0.886789</td>\n",
       "      <td>0.877996</td>\n",
       "      <td>0.004564</td>\n",
       "      <td>30</td>\n",
       "    </tr>\n",
       "    <tr>\n",
       "      <th>2</th>\n",
       "      <td>0.012173</td>\n",
       "      <td>0.003920</td>\n",
       "      <td>0.025081</td>\n",
       "      <td>0.001343</td>\n",
       "      <td>uniform</td>\n",
       "      <td>60</td>\n",
       "      <td>{'weights': 'uniform', 'n_neighbors': 60}</td>\n",
       "      <td>0.891821</td>\n",
       "      <td>0.893911</td>\n",
       "      <td>0.888916</td>\n",
       "      <td>0.890983</td>\n",
       "      <td>0.900516</td>\n",
       "      <td>0.893229</td>\n",
       "      <td>0.003980</td>\n",
       "      <td>2</td>\n",
       "    </tr>\n",
       "    <tr>\n",
       "      <th>3</th>\n",
       "      <td>0.009562</td>\n",
       "      <td>0.000503</td>\n",
       "      <td>0.030637</td>\n",
       "      <td>0.009640</td>\n",
       "      <td>distance</td>\n",
       "      <td>60</td>\n",
       "      <td>{'weights': 'distance', 'n_neighbors': 60}</td>\n",
       "      <td>0.874198</td>\n",
       "      <td>0.877137</td>\n",
       "      <td>0.876903</td>\n",
       "      <td>0.877128</td>\n",
       "      <td>0.887548</td>\n",
       "      <td>0.878583</td>\n",
       "      <td>0.004618</td>\n",
       "      <td>29</td>\n",
       "    </tr>\n",
       "    <tr>\n",
       "      <th>4</th>\n",
       "      <td>0.009780</td>\n",
       "      <td>0.000403</td>\n",
       "      <td>0.030302</td>\n",
       "      <td>0.006701</td>\n",
       "      <td>uniform</td>\n",
       "      <td>71</td>\n",
       "      <td>{'weights': 'uniform', 'n_neighbors': 71}</td>\n",
       "      <td>0.891761</td>\n",
       "      <td>0.893548</td>\n",
       "      <td>0.888764</td>\n",
       "      <td>0.890873</td>\n",
       "      <td>0.900464</td>\n",
       "      <td>0.893082</td>\n",
       "      <td>0.004000</td>\n",
       "      <td>3</td>\n",
       "    </tr>\n",
       "    <tr>\n",
       "      <th>5</th>\n",
       "      <td>0.010324</td>\n",
       "      <td>0.000747</td>\n",
       "      <td>0.037908</td>\n",
       "      <td>0.012049</td>\n",
       "      <td>distance</td>\n",
       "      <td>71</td>\n",
       "      <td>{'weights': 'distance', 'n_neighbors': 71}</td>\n",
       "      <td>0.874883</td>\n",
       "      <td>0.877586</td>\n",
       "      <td>0.877245</td>\n",
       "      <td>0.877657</td>\n",
       "      <td>0.888104</td>\n",
       "      <td>0.879095</td>\n",
       "      <td>0.004619</td>\n",
       "      <td>28</td>\n",
       "    </tr>\n",
       "    <tr>\n",
       "      <th>6</th>\n",
       "      <td>0.011974</td>\n",
       "      <td>0.002607</td>\n",
       "      <td>0.036247</td>\n",
       "      <td>0.010612</td>\n",
       "      <td>uniform</td>\n",
       "      <td>82</td>\n",
       "      <td>{'weights': 'uniform', 'n_neighbors': 82}</td>\n",
       "      <td>0.891372</td>\n",
       "      <td>0.893460</td>\n",
       "      <td>0.888114</td>\n",
       "      <td>0.890947</td>\n",
       "      <td>0.899961</td>\n",
       "      <td>0.892771</td>\n",
       "      <td>0.003978</td>\n",
       "      <td>4</td>\n",
       "    </tr>\n",
       "    <tr>\n",
       "      <th>7</th>\n",
       "      <td>0.015627</td>\n",
       "      <td>0.010209</td>\n",
       "      <td>0.035715</td>\n",
       "      <td>0.002324</td>\n",
       "      <td>distance</td>\n",
       "      <td>82</td>\n",
       "      <td>{'weights': 'distance', 'n_neighbors': 82}</td>\n",
       "      <td>0.875380</td>\n",
       "      <td>0.877980</td>\n",
       "      <td>0.877505</td>\n",
       "      <td>0.878181</td>\n",
       "      <td>0.888503</td>\n",
       "      <td>0.879510</td>\n",
       "      <td>0.004606</td>\n",
       "      <td>27</td>\n",
       "    </tr>\n",
       "    <tr>\n",
       "      <th>8</th>\n",
       "      <td>0.010936</td>\n",
       "      <td>0.000564</td>\n",
       "      <td>0.042442</td>\n",
       "      <td>0.013857</td>\n",
       "      <td>uniform</td>\n",
       "      <td>92</td>\n",
       "      <td>{'weights': 'uniform', 'n_neighbors': 92}</td>\n",
       "      <td>0.890918</td>\n",
       "      <td>0.892932</td>\n",
       "      <td>0.887573</td>\n",
       "      <td>0.890727</td>\n",
       "      <td>0.899850</td>\n",
       "      <td>0.892400</td>\n",
       "      <td>0.004101</td>\n",
       "      <td>5</td>\n",
       "    </tr>\n",
       "    <tr>\n",
       "      <th>9</th>\n",
       "      <td>0.019554</td>\n",
       "      <td>0.014334</td>\n",
       "      <td>0.043330</td>\n",
       "      <td>0.008692</td>\n",
       "      <td>distance</td>\n",
       "      <td>92</td>\n",
       "      <td>{'weights': 'distance', 'n_neighbors': 92}</td>\n",
       "      <td>0.875680</td>\n",
       "      <td>0.878201</td>\n",
       "      <td>0.877665</td>\n",
       "      <td>0.878491</td>\n",
       "      <td>0.888878</td>\n",
       "      <td>0.879783</td>\n",
       "      <td>0.004652</td>\n",
       "      <td>26</td>\n",
       "    </tr>\n",
       "    <tr>\n",
       "      <th>10</th>\n",
       "      <td>0.012607</td>\n",
       "      <td>0.002570</td>\n",
       "      <td>0.043683</td>\n",
       "      <td>0.005054</td>\n",
       "      <td>uniform</td>\n",
       "      <td>103</td>\n",
       "      <td>{'weights': 'uniform', 'n_neighbors': 103}</td>\n",
       "      <td>0.890248</td>\n",
       "      <td>0.892193</td>\n",
       "      <td>0.887093</td>\n",
       "      <td>0.889946</td>\n",
       "      <td>0.899867</td>\n",
       "      <td>0.891869</td>\n",
       "      <td>0.004318</td>\n",
       "      <td>6</td>\n",
       "    </tr>\n",
       "    <tr>\n",
       "      <th>11</th>\n",
       "      <td>0.014747</td>\n",
       "      <td>0.009602</td>\n",
       "      <td>0.045041</td>\n",
       "      <td>0.006950</td>\n",
       "      <td>distance</td>\n",
       "      <td>103</td>\n",
       "      <td>{'weights': 'distance', 'n_neighbors': 103}</td>\n",
       "      <td>0.875936</td>\n",
       "      <td>0.878326</td>\n",
       "      <td>0.877805</td>\n",
       "      <td>0.878722</td>\n",
       "      <td>0.889270</td>\n",
       "      <td>0.880012</td>\n",
       "      <td>0.004727</td>\n",
       "      <td>25</td>\n",
       "    </tr>\n",
       "    <tr>\n",
       "      <th>12</th>\n",
       "      <td>0.009416</td>\n",
       "      <td>0.000484</td>\n",
       "      <td>0.042011</td>\n",
       "      <td>0.006487</td>\n",
       "      <td>uniform</td>\n",
       "      <td>114</td>\n",
       "      <td>{'weights': 'uniform', 'n_neighbors': 114}</td>\n",
       "      <td>0.889452</td>\n",
       "      <td>0.891712</td>\n",
       "      <td>0.886937</td>\n",
       "      <td>0.889387</td>\n",
       "      <td>0.899497</td>\n",
       "      <td>0.891397</td>\n",
       "      <td>0.004323</td>\n",
       "      <td>7</td>\n",
       "    </tr>\n",
       "    <tr>\n",
       "      <th>13</th>\n",
       "      <td>0.009564</td>\n",
       "      <td>0.000532</td>\n",
       "      <td>0.045944</td>\n",
       "      <td>0.009454</td>\n",
       "      <td>distance</td>\n",
       "      <td>114</td>\n",
       "      <td>{'weights': 'distance', 'n_neighbors': 114}</td>\n",
       "      <td>0.876110</td>\n",
       "      <td>0.878478</td>\n",
       "      <td>0.877980</td>\n",
       "      <td>0.878878</td>\n",
       "      <td>0.889554</td>\n",
       "      <td>0.880200</td>\n",
       "      <td>0.004772</td>\n",
       "      <td>24</td>\n",
       "    </tr>\n",
       "    <tr>\n",
       "      <th>14</th>\n",
       "      <td>0.009207</td>\n",
       "      <td>0.000382</td>\n",
       "      <td>0.045969</td>\n",
       "      <td>0.006548</td>\n",
       "      <td>uniform</td>\n",
       "      <td>125</td>\n",
       "      <td>{'weights': 'uniform', 'n_neighbors': 125}</td>\n",
       "      <td>0.888992</td>\n",
       "      <td>0.891445</td>\n",
       "      <td>0.886515</td>\n",
       "      <td>0.888800</td>\n",
       "      <td>0.899230</td>\n",
       "      <td>0.890996</td>\n",
       "      <td>0.004403</td>\n",
       "      <td>8</td>\n",
       "    </tr>\n",
       "    <tr>\n",
       "      <th>15</th>\n",
       "      <td>0.009441</td>\n",
       "      <td>0.000521</td>\n",
       "      <td>0.050292</td>\n",
       "      <td>0.009801</td>\n",
       "      <td>distance</td>\n",
       "      <td>125</td>\n",
       "      <td>{'weights': 'distance', 'n_neighbors': 125}</td>\n",
       "      <td>0.876291</td>\n",
       "      <td>0.878626</td>\n",
       "      <td>0.878124</td>\n",
       "      <td>0.879028</td>\n",
       "      <td>0.889784</td>\n",
       "      <td>0.880371</td>\n",
       "      <td>0.004799</td>\n",
       "      <td>23</td>\n",
       "    </tr>\n",
       "    <tr>\n",
       "      <th>16</th>\n",
       "      <td>0.009591</td>\n",
       "      <td>0.000472</td>\n",
       "      <td>0.048230</td>\n",
       "      <td>0.006332</td>\n",
       "      <td>uniform</td>\n",
       "      <td>135</td>\n",
       "      <td>{'weights': 'uniform', 'n_neighbors': 135}</td>\n",
       "      <td>0.888774</td>\n",
       "      <td>0.890940</td>\n",
       "      <td>0.886352</td>\n",
       "      <td>0.888503</td>\n",
       "      <td>0.899006</td>\n",
       "      <td>0.890715</td>\n",
       "      <td>0.004393</td>\n",
       "      <td>9</td>\n",
       "    </tr>\n",
       "    <tr>\n",
       "      <th>17</th>\n",
       "      <td>0.009391</td>\n",
       "      <td>0.000482</td>\n",
       "      <td>0.055807</td>\n",
       "      <td>0.011666</td>\n",
       "      <td>distance</td>\n",
       "      <td>135</td>\n",
       "      <td>{'weights': 'distance', 'n_neighbors': 135}</td>\n",
       "      <td>0.876418</td>\n",
       "      <td>0.878702</td>\n",
       "      <td>0.878236</td>\n",
       "      <td>0.879156</td>\n",
       "      <td>0.889968</td>\n",
       "      <td>0.880496</td>\n",
       "      <td>0.004826</td>\n",
       "      <td>22</td>\n",
       "    </tr>\n",
       "    <tr>\n",
       "      <th>18</th>\n",
       "      <td>0.009642</td>\n",
       "      <td>0.000489</td>\n",
       "      <td>0.052097</td>\n",
       "      <td>0.009367</td>\n",
       "      <td>uniform</td>\n",
       "      <td>146</td>\n",
       "      <td>{'weights': 'uniform', 'n_neighbors': 146}</td>\n",
       "      <td>0.888468</td>\n",
       "      <td>0.890623</td>\n",
       "      <td>0.885898</td>\n",
       "      <td>0.887974</td>\n",
       "      <td>0.898602</td>\n",
       "      <td>0.890313</td>\n",
       "      <td>0.004408</td>\n",
       "      <td>10</td>\n",
       "    </tr>\n",
       "    <tr>\n",
       "      <th>19</th>\n",
       "      <td>0.009423</td>\n",
       "      <td>0.000498</td>\n",
       "      <td>0.053079</td>\n",
       "      <td>0.005900</td>\n",
       "      <td>distance</td>\n",
       "      <td>146</td>\n",
       "      <td>{'weights': 'distance', 'n_neighbors': 146}</td>\n",
       "      <td>0.876577</td>\n",
       "      <td>0.878810</td>\n",
       "      <td>0.878325</td>\n",
       "      <td>0.879214</td>\n",
       "      <td>0.890097</td>\n",
       "      <td>0.880605</td>\n",
       "      <td>0.004830</td>\n",
       "      <td>21</td>\n",
       "    </tr>\n",
       "    <tr>\n",
       "      <th>20</th>\n",
       "      <td>0.010146</td>\n",
       "      <td>0.001120</td>\n",
       "      <td>0.065722</td>\n",
       "      <td>0.012663</td>\n",
       "      <td>uniform</td>\n",
       "      <td>157</td>\n",
       "      <td>{'weights': 'uniform', 'n_neighbors': 157}</td>\n",
       "      <td>0.887671</td>\n",
       "      <td>0.889978</td>\n",
       "      <td>0.885422</td>\n",
       "      <td>0.887553</td>\n",
       "      <td>0.898432</td>\n",
       "      <td>0.889811</td>\n",
       "      <td>0.004545</td>\n",
       "      <td>11</td>\n",
       "    </tr>\n",
       "    <tr>\n",
       "      <th>21</th>\n",
       "      <td>0.009971</td>\n",
       "      <td>0.000889</td>\n",
       "      <td>0.076589</td>\n",
       "      <td>0.021226</td>\n",
       "      <td>distance</td>\n",
       "      <td>157</td>\n",
       "      <td>{'weights': 'distance', 'n_neighbors': 157}</td>\n",
       "      <td>0.876635</td>\n",
       "      <td>0.878825</td>\n",
       "      <td>0.878406</td>\n",
       "      <td>0.879262</td>\n",
       "      <td>0.890261</td>\n",
       "      <td>0.880678</td>\n",
       "      <td>0.004874</td>\n",
       "      <td>20</td>\n",
       "    </tr>\n",
       "    <tr>\n",
       "      <th>22</th>\n",
       "      <td>0.011580</td>\n",
       "      <td>0.003707</td>\n",
       "      <td>0.068220</td>\n",
       "      <td>0.014074</td>\n",
       "      <td>uniform</td>\n",
       "      <td>167</td>\n",
       "      <td>{'weights': 'uniform', 'n_neighbors': 167}</td>\n",
       "      <td>0.887028</td>\n",
       "      <td>0.889197</td>\n",
       "      <td>0.885062</td>\n",
       "      <td>0.887138</td>\n",
       "      <td>0.897926</td>\n",
       "      <td>0.889270</td>\n",
       "      <td>0.004521</td>\n",
       "      <td>12</td>\n",
       "    </tr>\n",
       "    <tr>\n",
       "      <th>23</th>\n",
       "      <td>0.009406</td>\n",
       "      <td>0.000501</td>\n",
       "      <td>0.060394</td>\n",
       "      <td>0.005562</td>\n",
       "      <td>distance</td>\n",
       "      <td>167</td>\n",
       "      <td>{'weights': 'distance', 'n_neighbors': 167}</td>\n",
       "      <td>0.876670</td>\n",
       "      <td>0.878782</td>\n",
       "      <td>0.878455</td>\n",
       "      <td>0.879331</td>\n",
       "      <td>0.890362</td>\n",
       "      <td>0.880720</td>\n",
       "      <td>0.004903</td>\n",
       "      <td>19</td>\n",
       "    </tr>\n",
       "    <tr>\n",
       "      <th>24</th>\n",
       "      <td>0.009197</td>\n",
       "      <td>0.000395</td>\n",
       "      <td>0.064601</td>\n",
       "      <td>0.010109</td>\n",
       "      <td>uniform</td>\n",
       "      <td>178</td>\n",
       "      <td>{'weights': 'uniform', 'n_neighbors': 178}</td>\n",
       "      <td>0.886493</td>\n",
       "      <td>0.888468</td>\n",
       "      <td>0.884558</td>\n",
       "      <td>0.886492</td>\n",
       "      <td>0.897296</td>\n",
       "      <td>0.888662</td>\n",
       "      <td>0.004491</td>\n",
       "      <td>13</td>\n",
       "    </tr>\n",
       "    <tr>\n",
       "      <th>25</th>\n",
       "      <td>0.012174</td>\n",
       "      <td>0.005453</td>\n",
       "      <td>0.062847</td>\n",
       "      <td>0.002543</td>\n",
       "      <td>distance</td>\n",
       "      <td>178</td>\n",
       "      <td>{'weights': 'distance', 'n_neighbors': 178}</td>\n",
       "      <td>0.876703</td>\n",
       "      <td>0.878772</td>\n",
       "      <td>0.878524</td>\n",
       "      <td>0.879304</td>\n",
       "      <td>0.890447</td>\n",
       "      <td>0.880750</td>\n",
       "      <td>0.004927</td>\n",
       "      <td>18</td>\n",
       "    </tr>\n",
       "    <tr>\n",
       "      <th>26</th>\n",
       "      <td>0.010219</td>\n",
       "      <td>0.001060</td>\n",
       "      <td>0.072072</td>\n",
       "      <td>0.011308</td>\n",
       "      <td>uniform</td>\n",
       "      <td>189</td>\n",
       "      <td>{'weights': 'uniform', 'n_neighbors': 189}</td>\n",
       "      <td>0.885797</td>\n",
       "      <td>0.887912</td>\n",
       "      <td>0.884129</td>\n",
       "      <td>0.886237</td>\n",
       "      <td>0.896826</td>\n",
       "      <td>0.888180</td>\n",
       "      <td>0.004487</td>\n",
       "      <td>14</td>\n",
       "    </tr>\n",
       "    <tr>\n",
       "      <th>27</th>\n",
       "      <td>0.009961</td>\n",
       "      <td>0.000624</td>\n",
       "      <td>0.070746</td>\n",
       "      <td>0.009409</td>\n",
       "      <td>distance</td>\n",
       "      <td>189</td>\n",
       "      <td>{'weights': 'distance', 'n_neighbors': 189}</td>\n",
       "      <td>0.876719</td>\n",
       "      <td>0.878777</td>\n",
       "      <td>0.878579</td>\n",
       "      <td>0.879335</td>\n",
       "      <td>0.890518</td>\n",
       "      <td>0.880785</td>\n",
       "      <td>0.004945</td>\n",
       "      <td>17</td>\n",
       "    </tr>\n",
       "    <tr>\n",
       "      <th>28</th>\n",
       "      <td>0.010010</td>\n",
       "      <td>0.000653</td>\n",
       "      <td>0.067238</td>\n",
       "      <td>0.008577</td>\n",
       "      <td>uniform</td>\n",
       "      <td>200</td>\n",
       "      <td>{'weights': 'uniform', 'n_neighbors': 200}</td>\n",
       "      <td>0.885307</td>\n",
       "      <td>0.887339</td>\n",
       "      <td>0.883667</td>\n",
       "      <td>0.886028</td>\n",
       "      <td>0.896122</td>\n",
       "      <td>0.887693</td>\n",
       "      <td>0.004378</td>\n",
       "      <td>15</td>\n",
       "    </tr>\n",
       "    <tr>\n",
       "      <th>29</th>\n",
       "      <td>0.011178</td>\n",
       "      <td>0.002930</td>\n",
       "      <td>0.071973</td>\n",
       "      <td>0.007831</td>\n",
       "      <td>distance</td>\n",
       "      <td>200</td>\n",
       "      <td>{'weights': 'distance', 'n_neighbors': 200}</td>\n",
       "      <td>0.876753</td>\n",
       "      <td>0.878792</td>\n",
       "      <td>0.878608</td>\n",
       "      <td>0.879356</td>\n",
       "      <td>0.890539</td>\n",
       "      <td>0.880810</td>\n",
       "      <td>0.004942</td>\n",
       "      <td>16</td>\n",
       "    </tr>\n",
       "  </tbody>\n",
       "</table>\n",
       "</div>"
      ],
      "text/plain": [
       "    mean_fit_time  std_fit_time  mean_score_time  std_score_time  \\\n",
       "0        0.015881      0.006789         0.025388        0.006414   \n",
       "1        0.009994      0.000027         0.023389        0.002774   \n",
       "2        0.012173      0.003920         0.025081        0.001343   \n",
       "3        0.009562      0.000503         0.030637        0.009640   \n",
       "4        0.009780      0.000403         0.030302        0.006701   \n",
       "5        0.010324      0.000747         0.037908        0.012049   \n",
       "6        0.011974      0.002607         0.036247        0.010612   \n",
       "7        0.015627      0.010209         0.035715        0.002324   \n",
       "8        0.010936      0.000564         0.042442        0.013857   \n",
       "9        0.019554      0.014334         0.043330        0.008692   \n",
       "10       0.012607      0.002570         0.043683        0.005054   \n",
       "11       0.014747      0.009602         0.045041        0.006950   \n",
       "12       0.009416      0.000484         0.042011        0.006487   \n",
       "13       0.009564      0.000532         0.045944        0.009454   \n",
       "14       0.009207      0.000382         0.045969        0.006548   \n",
       "15       0.009441      0.000521         0.050292        0.009801   \n",
       "16       0.009591      0.000472         0.048230        0.006332   \n",
       "17       0.009391      0.000482         0.055807        0.011666   \n",
       "18       0.009642      0.000489         0.052097        0.009367   \n",
       "19       0.009423      0.000498         0.053079        0.005900   \n",
       "20       0.010146      0.001120         0.065722        0.012663   \n",
       "21       0.009971      0.000889         0.076589        0.021226   \n",
       "22       0.011580      0.003707         0.068220        0.014074   \n",
       "23       0.009406      0.000501         0.060394        0.005562   \n",
       "24       0.009197      0.000395         0.064601        0.010109   \n",
       "25       0.012174      0.005453         0.062847        0.002543   \n",
       "26       0.010219      0.001060         0.072072        0.011308   \n",
       "27       0.009961      0.000624         0.070746        0.009409   \n",
       "28       0.010010      0.000653         0.067238        0.008577   \n",
       "29       0.011178      0.002930         0.071973        0.007831   \n",
       "\n",
       "   param_weights param_n_neighbors  \\\n",
       "0        uniform                50   \n",
       "1       distance                50   \n",
       "2        uniform                60   \n",
       "3       distance                60   \n",
       "4        uniform                71   \n",
       "5       distance                71   \n",
       "6        uniform                82   \n",
       "7       distance                82   \n",
       "8        uniform                92   \n",
       "9       distance                92   \n",
       "10       uniform               103   \n",
       "11      distance               103   \n",
       "12       uniform               114   \n",
       "13      distance               114   \n",
       "14       uniform               125   \n",
       "15      distance               125   \n",
       "16       uniform               135   \n",
       "17      distance               135   \n",
       "18       uniform               146   \n",
       "19      distance               146   \n",
       "20       uniform               157   \n",
       "21      distance               157   \n",
       "22       uniform               167   \n",
       "23      distance               167   \n",
       "24       uniform               178   \n",
       "25      distance               178   \n",
       "26       uniform               189   \n",
       "27      distance               189   \n",
       "28       uniform               200   \n",
       "29      distance               200   \n",
       "\n",
       "                                         params  split0_test_score  \\\n",
       "0     {'weights': 'uniform', 'n_neighbors': 50}           0.892092   \n",
       "1    {'weights': 'distance', 'n_neighbors': 50}           0.873434   \n",
       "2     {'weights': 'uniform', 'n_neighbors': 60}           0.891821   \n",
       "3    {'weights': 'distance', 'n_neighbors': 60}           0.874198   \n",
       "4     {'weights': 'uniform', 'n_neighbors': 71}           0.891761   \n",
       "5    {'weights': 'distance', 'n_neighbors': 71}           0.874883   \n",
       "6     {'weights': 'uniform', 'n_neighbors': 82}           0.891372   \n",
       "7    {'weights': 'distance', 'n_neighbors': 82}           0.875380   \n",
       "8     {'weights': 'uniform', 'n_neighbors': 92}           0.890918   \n",
       "9    {'weights': 'distance', 'n_neighbors': 92}           0.875680   \n",
       "10   {'weights': 'uniform', 'n_neighbors': 103}           0.890248   \n",
       "11  {'weights': 'distance', 'n_neighbors': 103}           0.875936   \n",
       "12   {'weights': 'uniform', 'n_neighbors': 114}           0.889452   \n",
       "13  {'weights': 'distance', 'n_neighbors': 114}           0.876110   \n",
       "14   {'weights': 'uniform', 'n_neighbors': 125}           0.888992   \n",
       "15  {'weights': 'distance', 'n_neighbors': 125}           0.876291   \n",
       "16   {'weights': 'uniform', 'n_neighbors': 135}           0.888774   \n",
       "17  {'weights': 'distance', 'n_neighbors': 135}           0.876418   \n",
       "18   {'weights': 'uniform', 'n_neighbors': 146}           0.888468   \n",
       "19  {'weights': 'distance', 'n_neighbors': 146}           0.876577   \n",
       "20   {'weights': 'uniform', 'n_neighbors': 157}           0.887671   \n",
       "21  {'weights': 'distance', 'n_neighbors': 157}           0.876635   \n",
       "22   {'weights': 'uniform', 'n_neighbors': 167}           0.887028   \n",
       "23  {'weights': 'distance', 'n_neighbors': 167}           0.876670   \n",
       "24   {'weights': 'uniform', 'n_neighbors': 178}           0.886493   \n",
       "25  {'weights': 'distance', 'n_neighbors': 178}           0.876703   \n",
       "26   {'weights': 'uniform', 'n_neighbors': 189}           0.885797   \n",
       "27  {'weights': 'distance', 'n_neighbors': 189}           0.876719   \n",
       "28   {'weights': 'uniform', 'n_neighbors': 200}           0.885307   \n",
       "29  {'weights': 'distance', 'n_neighbors': 200}           0.876753   \n",
       "\n",
       "    split1_test_score  split2_test_score  split3_test_score  \\\n",
       "0            0.894995           0.889022           0.891128   \n",
       "1            0.876725           0.876445           0.876587   \n",
       "2            0.893911           0.888916           0.890983   \n",
       "3            0.877137           0.876903           0.877128   \n",
       "4            0.893548           0.888764           0.890873   \n",
       "5            0.877586           0.877245           0.877657   \n",
       "6            0.893460           0.888114           0.890947   \n",
       "7            0.877980           0.877505           0.878181   \n",
       "8            0.892932           0.887573           0.890727   \n",
       "9            0.878201           0.877665           0.878491   \n",
       "10           0.892193           0.887093           0.889946   \n",
       "11           0.878326           0.877805           0.878722   \n",
       "12           0.891712           0.886937           0.889387   \n",
       "13           0.878478           0.877980           0.878878   \n",
       "14           0.891445           0.886515           0.888800   \n",
       "15           0.878626           0.878124           0.879028   \n",
       "16           0.890940           0.886352           0.888503   \n",
       "17           0.878702           0.878236           0.879156   \n",
       "18           0.890623           0.885898           0.887974   \n",
       "19           0.878810           0.878325           0.879214   \n",
       "20           0.889978           0.885422           0.887553   \n",
       "21           0.878825           0.878406           0.879262   \n",
       "22           0.889197           0.885062           0.887138   \n",
       "23           0.878782           0.878455           0.879331   \n",
       "24           0.888468           0.884558           0.886492   \n",
       "25           0.878772           0.878524           0.879304   \n",
       "26           0.887912           0.884129           0.886237   \n",
       "27           0.878777           0.878579           0.879335   \n",
       "28           0.887339           0.883667           0.886028   \n",
       "29           0.878792           0.878608           0.879356   \n",
       "\n",
       "    split4_test_score  mean_test_score  std_test_score  rank_test_score  \n",
       "0            0.899859         0.893419        0.003749                1  \n",
       "1            0.886789         0.877996        0.004564               30  \n",
       "2            0.900516         0.893229        0.003980                2  \n",
       "3            0.887548         0.878583        0.004618               29  \n",
       "4            0.900464         0.893082        0.004000                3  \n",
       "5            0.888104         0.879095        0.004619               28  \n",
       "6            0.899961         0.892771        0.003978                4  \n",
       "7            0.888503         0.879510        0.004606               27  \n",
       "8            0.899850         0.892400        0.004101                5  \n",
       "9            0.888878         0.879783        0.004652               26  \n",
       "10           0.899867         0.891869        0.004318                6  \n",
       "11           0.889270         0.880012        0.004727               25  \n",
       "12           0.899497         0.891397        0.004323                7  \n",
       "13           0.889554         0.880200        0.004772               24  \n",
       "14           0.899230         0.890996        0.004403                8  \n",
       "15           0.889784         0.880371        0.004799               23  \n",
       "16           0.899006         0.890715        0.004393                9  \n",
       "17           0.889968         0.880496        0.004826               22  \n",
       "18           0.898602         0.890313        0.004408               10  \n",
       "19           0.890097         0.880605        0.004830               21  \n",
       "20           0.898432         0.889811        0.004545               11  \n",
       "21           0.890261         0.880678        0.004874               20  \n",
       "22           0.897926         0.889270        0.004521               12  \n",
       "23           0.890362         0.880720        0.004903               19  \n",
       "24           0.897296         0.888662        0.004491               13  \n",
       "25           0.890447         0.880750        0.004927               18  \n",
       "26           0.896826         0.888180        0.004487               14  \n",
       "27           0.890518         0.880785        0.004945               17  \n",
       "28           0.896122         0.887693        0.004378               15  \n",
       "29           0.890539         0.880810        0.004942               16  "
      ]
     },
     "execution_count": 45,
     "metadata": {},
     "output_type": "execute_result"
    }
   ],
   "source": [
    "pd.DataFrame(rmcv.cv_results_)"
   ]
  },
  {
   "cell_type": "code",
   "execution_count": 46,
   "id": "98d7fffc",
   "metadata": {},
   "outputs": [],
   "source": [
    "KNNRegression =rmcv.best_estimator_"
   ]
  },
  {
   "cell_type": "code",
   "execution_count": 47,
   "id": "d3a3f774",
   "metadata": {},
   "outputs": [
    {
     "data": {
      "text/plain": [
       "KNeighborsRegressor(n_neighbors=50)"
      ]
     },
     "execution_count": 47,
     "metadata": {},
     "output_type": "execute_result"
    }
   ],
   "source": [
    "KNNRegression"
   ]
  },
  {
   "cell_type": "code",
   "execution_count": 48,
   "id": "5e35b199",
   "metadata": {},
   "outputs": [
    {
     "data": {
      "text/plain": [
       "0.9035931970477211"
      ]
     },
     "execution_count": 48,
     "metadata": {},
     "output_type": "execute_result"
    }
   ],
   "source": [
    "KNNRegression.score(xtest,ytest)"
   ]
  },
  {
   "cell_type": "markdown",
   "id": "10828ac4",
   "metadata": {},
   "source": [
    "# KNN Classifier"
   ]
  },
  {
   "cell_type": "code",
   "execution_count": 49,
   "id": "ecce23e2",
   "metadata": {},
   "outputs": [],
   "source": [
    "df = df.drop([\"New Y\"], axis=1)"
   ]
  },
  {
   "cell_type": "code",
   "execution_count": 50,
   "id": "4a32d88f",
   "metadata": {},
   "outputs": [
    {
     "data": {
      "text/html": [
       "<div>\n",
       "<style scoped>\n",
       "    .dataframe tbody tr th:only-of-type {\n",
       "        vertical-align: middle;\n",
       "    }\n",
       "\n",
       "    .dataframe tbody tr th {\n",
       "        vertical-align: top;\n",
       "    }\n",
       "\n",
       "    .dataframe thead th {\n",
       "        text-align: right;\n",
       "    }\n",
       "</style>\n",
       "<table border=\"1\" class=\"dataframe\">\n",
       "  <thead>\n",
       "    <tr style=\"text-align: right;\">\n",
       "      <th></th>\n",
       "      <th>Gender</th>\n",
       "      <th>Height</th>\n",
       "      <th>Weight</th>\n",
       "    </tr>\n",
       "  </thead>\n",
       "  <tbody>\n",
       "    <tr>\n",
       "      <th>0</th>\n",
       "      <td>1</td>\n",
       "      <td>73.847017</td>\n",
       "      <td>241.893563</td>\n",
       "    </tr>\n",
       "    <tr>\n",
       "      <th>1</th>\n",
       "      <td>1</td>\n",
       "      <td>68.781904</td>\n",
       "      <td>162.310473</td>\n",
       "    </tr>\n",
       "    <tr>\n",
       "      <th>2</th>\n",
       "      <td>1</td>\n",
       "      <td>74.110105</td>\n",
       "      <td>212.740856</td>\n",
       "    </tr>\n",
       "    <tr>\n",
       "      <th>3</th>\n",
       "      <td>1</td>\n",
       "      <td>71.730978</td>\n",
       "      <td>220.042470</td>\n",
       "    </tr>\n",
       "    <tr>\n",
       "      <th>4</th>\n",
       "      <td>1</td>\n",
       "      <td>69.881796</td>\n",
       "      <td>206.349801</td>\n",
       "    </tr>\n",
       "    <tr>\n",
       "      <th>...</th>\n",
       "      <td>...</td>\n",
       "      <td>...</td>\n",
       "      <td>...</td>\n",
       "    </tr>\n",
       "    <tr>\n",
       "      <th>8550</th>\n",
       "      <td>0</td>\n",
       "      <td>60.483946</td>\n",
       "      <td>110.565497</td>\n",
       "    </tr>\n",
       "    <tr>\n",
       "      <th>8551</th>\n",
       "      <td>0</td>\n",
       "      <td>63.423372</td>\n",
       "      <td>129.921671</td>\n",
       "    </tr>\n",
       "    <tr>\n",
       "      <th>8552</th>\n",
       "      <td>0</td>\n",
       "      <td>65.584057</td>\n",
       "      <td>155.942671</td>\n",
       "    </tr>\n",
       "    <tr>\n",
       "      <th>8553</th>\n",
       "      <td>0</td>\n",
       "      <td>67.429971</td>\n",
       "      <td>151.678405</td>\n",
       "    </tr>\n",
       "    <tr>\n",
       "      <th>8554</th>\n",
       "      <td>0</td>\n",
       "      <td>60.921791</td>\n",
       "      <td>131.253738</td>\n",
       "    </tr>\n",
       "  </tbody>\n",
       "</table>\n",
       "<p>8555 rows × 3 columns</p>\n",
       "</div>"
      ],
      "text/plain": [
       "      Gender     Height      Weight\n",
       "0          1  73.847017  241.893563\n",
       "1          1  68.781904  162.310473\n",
       "2          1  74.110105  212.740856\n",
       "3          1  71.730978  220.042470\n",
       "4          1  69.881796  206.349801\n",
       "...      ...        ...         ...\n",
       "8550       0  60.483946  110.565497\n",
       "8551       0  63.423372  129.921671\n",
       "8552       0  65.584057  155.942671\n",
       "8553       0  67.429971  151.678405\n",
       "8554       0  60.921791  131.253738\n",
       "\n",
       "[8555 rows x 3 columns]"
      ]
     },
     "execution_count": 50,
     "metadata": {},
     "output_type": "execute_result"
    }
   ],
   "source": [
    "df"
   ]
  },
  {
   "cell_type": "code",
   "execution_count": 51,
   "id": "d20c5407",
   "metadata": {},
   "outputs": [],
   "source": [
    "x1 = df.drop([\"Gender\"], axis=1)"
   ]
  },
  {
   "cell_type": "code",
   "execution_count": 52,
   "id": "067b4254",
   "metadata": {},
   "outputs": [
    {
     "data": {
      "text/plain": [
       "2"
      ]
     },
     "execution_count": 52,
     "metadata": {},
     "output_type": "execute_result"
    }
   ],
   "source": [
    "x1.ndim"
   ]
  },
  {
   "cell_type": "code",
   "execution_count": 53,
   "id": "9884cceb",
   "metadata": {},
   "outputs": [],
   "source": [
    "y1= df[\"Gender\"]"
   ]
  },
  {
   "cell_type": "code",
   "execution_count": 54,
   "id": "8dfde682",
   "metadata": {},
   "outputs": [
    {
     "data": {
      "text/plain": [
       "1"
      ]
     },
     "execution_count": 54,
     "metadata": {},
     "output_type": "execute_result"
    }
   ],
   "source": [
    "y1.ndim"
   ]
  },
  {
   "cell_type": "code",
   "execution_count": 55,
   "id": "95f5a943",
   "metadata": {},
   "outputs": [],
   "source": [
    "from sklearn.model_selection import train_test_split"
   ]
  },
  {
   "cell_type": "code",
   "execution_count": 56,
   "id": "fd8c3cb3",
   "metadata": {},
   "outputs": [],
   "source": [
    "x1train,x1test,y1train,y1test =train_test_split(x1,y1,test_size=0.3,random_state=1)"
   ]
  },
  {
   "cell_type": "code",
   "execution_count": 57,
   "id": "7f3228f3",
   "metadata": {},
   "outputs": [],
   "source": [
    "from sklearn.neighbors import KNeighborsClassifier"
   ]
  },
  {
   "cell_type": "code",
   "execution_count": 58,
   "id": "df5af411",
   "metadata": {},
   "outputs": [],
   "source": [
    "kncls =KNeighborsClassifier()"
   ]
  },
  {
   "cell_type": "code",
   "execution_count": 59,
   "id": "1997c546",
   "metadata": {},
   "outputs": [
    {
     "data": {
      "text/plain": [
       "KNeighborsClassifier()"
      ]
     },
     "execution_count": 59,
     "metadata": {},
     "output_type": "execute_result"
    }
   ],
   "source": [
    "kncls.fit(x1train,y1train)"
   ]
  },
  {
   "cell_type": "code",
   "execution_count": 60,
   "id": "f54e341c",
   "metadata": {},
   "outputs": [
    {
     "data": {
      "text/plain": [
       "array([0])"
      ]
     },
     "execution_count": 60,
     "metadata": {},
     "output_type": "execute_result"
    }
   ],
   "source": [
    "kncls.predict([[60.921791,131.253738]])"
   ]
  },
  {
   "cell_type": "code",
   "execution_count": 61,
   "id": "8ed83bec",
   "metadata": {},
   "outputs": [
    {
     "data": {
      "text/plain": [
       "0.9146864043630697"
      ]
     },
     "execution_count": 61,
     "metadata": {},
     "output_type": "execute_result"
    }
   ],
   "source": [
    "kncls.score(x1test,y1test)"
   ]
  },
  {
   "cell_type": "markdown",
   "id": "bef87984",
   "metadata": {},
   "source": [
    "# Tuning"
   ]
  },
  {
   "cell_type": "code",
   "execution_count": 62,
   "id": "d6f4685e",
   "metadata": {},
   "outputs": [
    {
     "name": "stdout",
     "output_type": "stream",
     "text": [
      "{'n_neighbors': [10, 16, 22, 29, 35, 42, 48, 55, 61, 67, 74, 80, 87, 93, 100], 'weights': ['uniform', 'distance']}\n"
     ]
    }
   ],
   "source": [
    "k_neighbors = [int(x) for x in np.linspace(10,100,15) ]\n",
    "weights =['uniform', 'distance']\n",
    "\n",
    "grids ={\n",
    "   \"n_neighbors\":k_neighbors,\n",
    "    \"weights\":weights\n",
    "}\n",
    "print(grids)"
   ]
  },
  {
   "cell_type": "code",
   "execution_count": 63,
   "id": "9b2b4e35",
   "metadata": {},
   "outputs": [],
   "source": [
    "from sklearn.model_selection import RandomizedSearchCV"
   ]
  },
  {
   "cell_type": "code",
   "execution_count": 64,
   "id": "7beb9373",
   "metadata": {},
   "outputs": [],
   "source": [
    "knclass =KNeighborsClassifier()"
   ]
  },
  {
   "cell_type": "code",
   "execution_count": 65,
   "id": "c7dcfee3",
   "metadata": {},
   "outputs": [],
   "source": [
    "rmcvcls =RandomizedSearchCV(estimator=knclass,param_distributions=grids,n_iter=100 ,cv=5)"
   ]
  },
  {
   "cell_type": "code",
   "execution_count": 66,
   "id": "2c7c855c",
   "metadata": {},
   "outputs": [
    {
     "data": {
      "text/plain": [
       "RandomizedSearchCV(cv=5, estimator=KNeighborsClassifier(), n_iter=100,\n",
       "                   param_distributions={'n_neighbors': [10, 16, 22, 29, 35, 42,\n",
       "                                                        48, 55, 61, 67, 74, 80,\n",
       "                                                        87, 93, 100],\n",
       "                                        'weights': ['uniform', 'distance']})"
      ]
     },
     "execution_count": 66,
     "metadata": {},
     "output_type": "execute_result"
    }
   ],
   "source": [
    "rmcvcls"
   ]
  },
  {
   "cell_type": "code",
   "execution_count": 67,
   "id": "e5b57a8d",
   "metadata": {},
   "outputs": [
    {
     "name": "stderr",
     "output_type": "stream",
     "text": [
      "C:\\Users\\Binu\\anaconda3\\lib\\site-packages\\sklearn\\model_selection\\_search.py:285: UserWarning: The total space of parameters 30 is smaller than n_iter=100. Running 30 iterations. For exhaustive searches, use GridSearchCV.\n",
      "  warnings.warn(\n"
     ]
    },
    {
     "data": {
      "text/plain": [
       "RandomizedSearchCV(cv=5, estimator=KNeighborsClassifier(), n_iter=100,\n",
       "                   param_distributions={'n_neighbors': [10, 16, 22, 29, 35, 42,\n",
       "                                                        48, 55, 61, 67, 74, 80,\n",
       "                                                        87, 93, 100],\n",
       "                                        'weights': ['uniform', 'distance']})"
      ]
     },
     "execution_count": 67,
     "metadata": {},
     "output_type": "execute_result"
    }
   ],
   "source": [
    "rmcvcls.fit(x1train,y1train)"
   ]
  },
  {
   "cell_type": "code",
   "execution_count": 68,
   "id": "c1f1fc20",
   "metadata": {},
   "outputs": [
    {
     "data": {
      "text/plain": [
       "{'weights': 'distance', 'n_neighbors': 48}"
      ]
     },
     "execution_count": 68,
     "metadata": {},
     "output_type": "execute_result"
    }
   ],
   "source": [
    "rmcvcls.best_params_"
   ]
  },
  {
   "cell_type": "code",
   "execution_count": 69,
   "id": "07e6ad98",
   "metadata": {},
   "outputs": [
    {
     "data": {
      "text/plain": [
       "0.9139967336259402"
      ]
     },
     "execution_count": 69,
     "metadata": {},
     "output_type": "execute_result"
    }
   ],
   "source": [
    "rmcvcls.best_score_"
   ]
  },
  {
   "cell_type": "code",
   "execution_count": 70,
   "id": "03bf97a3",
   "metadata": {},
   "outputs": [
    {
     "data": {
      "text/plain": [
       "0.9216984807167901"
      ]
     },
     "execution_count": 70,
     "metadata": {},
     "output_type": "execute_result"
    }
   ],
   "source": [
    "rmcvcls.score(x1test,y1test)"
   ]
  },
  {
   "cell_type": "code",
   "execution_count": null,
   "id": "a5a2f624",
   "metadata": {},
   "outputs": [],
   "source": []
  }
 ],
 "metadata": {
  "kernelspec": {
   "display_name": "Python 3",
   "language": "python",
   "name": "python3"
  },
  "language_info": {
   "codemirror_mode": {
    "name": "ipython",
    "version": 3
   },
   "file_extension": ".py",
   "mimetype": "text/x-python",
   "name": "python",
   "nbconvert_exporter": "python",
   "pygments_lexer": "ipython3",
   "version": "3.8.8"
  }
 },
 "nbformat": 4,
 "nbformat_minor": 5
}
